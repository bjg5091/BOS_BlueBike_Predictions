{
 "cells": [
  {
   "cell_type": "code",
   "execution_count": 1,
   "metadata": {},
   "outputs": [
    {
     "name": "stderr",
     "output_type": "stream",
     "text": [
      "Using TensorFlow backend.\n"
     ]
    }
   ],
   "source": [
    "import pandas as pd\n",
    "import matplotlib.pyplot as plt\n",
    "import numpy as np\n",
    "import seaborn as sns\n",
    "import datetime as dt\n",
    "import math\n",
    "import geopandas as gpd\n",
    "from shapely.geometry import Point, Polygon\n",
    "from scipy.spatial.distance import cdist, pdist, squareform\n",
    "from sklearn.linear_model import LinearRegression\n",
    "from sklearn.ensemble import RandomForestRegressor\n",
    "from sklearn.model_selection import train_test_split\n",
    "from sklearn.model_selection import cross_validate, cross_val_score, GridSearchCV\n",
    "from sklearn.ensemble import GradientBoostingRegressor\n",
    "from keras.models import Model\n",
    "from keras.layers import Dense\n",
    "from keras.models import Sequential\n",
    "\n",
    "%matplotlib inline"
   ]
  },
  {
   "cell_type": "code",
   "execution_count": 2,
   "metadata": {},
   "outputs": [
    {
     "name": "stderr",
     "output_type": "stream",
     "text": [
      "/Users/kkim14/anaconda3/lib/python3.6/site-packages/numpy/lib/arraysetops.py:569: FutureWarning: elementwise comparison failed; returning scalar instead, but in the future will perform elementwise comparison\n",
      "  mask |= (ar1 == a)\n"
     ]
    }
   ],
   "source": [
    "# Read processed files\n",
    "trip_simp=pd.read_csv(\"../Data_processed/trip_simp.csv\",parse_dates=[\"starttime\", \"stoptime\"], index_col=0)\n",
    "station_zip=pd.read_csv(\"../Data_processed/station_with_zipzone.csv\", index_col=0)\n",
    "tripmonth=pd.read_csv(\"../Data_processed/tripmonth.csv\")\n",
    "MBTA_subway=pd.read_csv(\"../Data_processed/MBTA_subway.csv\", index_col=0)\n",
    "hourly_empty_stations=pd.read_csv(\"../Data_processed/station_hours.csv\", index_col=0)"
   ]
  },
  {
   "cell_type": "code",
   "execution_count": 3,
   "metadata": {},
   "outputs": [
    {
     "data": {
      "text/html": [
       "<div>\n",
       "<style scoped>\n",
       "    .dataframe tbody tr th:only-of-type {\n",
       "        vertical-align: middle;\n",
       "    }\n",
       "\n",
       "    .dataframe tbody tr th {\n",
       "        vertical-align: top;\n",
       "    }\n",
       "\n",
       "    .dataframe thead th {\n",
       "        text-align: right;\n",
       "    }\n",
       "</style>\n",
       "<table border=\"1\" class=\"dataframe\">\n",
       "  <thead>\n",
       "    <tr style=\"text-align: right;\">\n",
       "      <th></th>\n",
       "      <th>start_station_id</th>\n",
       "      <th>end_station_id</th>\n",
       "      <th>starttime</th>\n",
       "      <th>stoptime</th>\n",
       "      <th>tripduration</th>\n",
       "      <th>bikeid</th>\n",
       "      <th>counting</th>\n",
       "    </tr>\n",
       "  </thead>\n",
       "  <tbody>\n",
       "    <tr>\n",
       "      <th>0</th>\n",
       "      <td>22</td>\n",
       "      <td>60</td>\n",
       "      <td>2017-07-01 00:00:21</td>\n",
       "      <td>2017-07-01 00:08:05</td>\n",
       "      <td>463</td>\n",
       "      <td>706</td>\n",
       "      <td>1</td>\n",
       "    </tr>\n",
       "    <tr>\n",
       "      <th>1</th>\n",
       "      <td>22</td>\n",
       "      <td>52</td>\n",
       "      <td>2017-07-01 00:00:30</td>\n",
       "      <td>2017-07-01 00:12:00</td>\n",
       "      <td>689</td>\n",
       "      <td>565</td>\n",
       "      <td>1</td>\n",
       "    </tr>\n",
       "    <tr>\n",
       "      <th>2</th>\n",
       "      <td>41</td>\n",
       "      <td>381</td>\n",
       "      <td>2017-07-01 00:01:16</td>\n",
       "      <td>2017-07-01 00:24:14</td>\n",
       "      <td>1377</td>\n",
       "      <td>567</td>\n",
       "      <td>1</td>\n",
       "    </tr>\n",
       "  </tbody>\n",
       "</table>\n",
       "</div>"
      ],
      "text/plain": [
       "   start_station_id  end_station_id           starttime            stoptime  \\\n",
       "0                22              60 2017-07-01 00:00:21 2017-07-01 00:08:05   \n",
       "1                22              52 2017-07-01 00:00:30 2017-07-01 00:12:00   \n",
       "2                41             381 2017-07-01 00:01:16 2017-07-01 00:24:14   \n",
       "\n",
       "   tripduration  bikeid  counting  \n",
       "0           463     706         1  \n",
       "1           689     565         1  \n",
       "2          1377     567         1  "
      ]
     },
     "execution_count": 3,
     "metadata": {},
     "output_type": "execute_result"
    }
   ],
   "source": [
    "trip_simp.head(3)"
   ]
  },
  {
   "cell_type": "code",
   "execution_count": 4,
   "metadata": {},
   "outputs": [
    {
     "data": {
      "text/html": [
       "<div>\n",
       "<style scoped>\n",
       "    .dataframe tbody tr th:only-of-type {\n",
       "        vertical-align: middle;\n",
       "    }\n",
       "\n",
       "    .dataframe tbody tr th {\n",
       "        vertical-align: top;\n",
       "    }\n",
       "\n",
       "    .dataframe thead th {\n",
       "        text-align: right;\n",
       "    }\n",
       "</style>\n",
       "<table border=\"1\" class=\"dataframe\">\n",
       "  <thead>\n",
       "    <tr style=\"text-align: right;\">\n",
       "      <th></th>\n",
       "      <th>ID</th>\n",
       "      <th>Station</th>\n",
       "      <th>Latitude</th>\n",
       "      <th>Longitude</th>\n",
       "      <th>Municipality</th>\n",
       "      <th>Current_Bikes</th>\n",
       "      <th>Empty_Docks</th>\n",
       "      <th>Num_of_Docks</th>\n",
       "      <th>zip</th>\n",
       "      <th>zone</th>\n",
       "    </tr>\n",
       "  </thead>\n",
       "  <tbody>\n",
       "    <tr>\n",
       "      <th>0</th>\n",
       "      <td>3</td>\n",
       "      <td>Colleges of the Fenway - Fenway at Avenue Loui...</td>\n",
       "      <td>42.340115</td>\n",
       "      <td>-71.100619</td>\n",
       "      <td>Boston</td>\n",
       "      <td>11</td>\n",
       "      <td>0</td>\n",
       "      <td>11</td>\n",
       "      <td>2115</td>\n",
       "      <td>0</td>\n",
       "    </tr>\n",
       "    <tr>\n",
       "      <th>1</th>\n",
       "      <td>4</td>\n",
       "      <td>Tremont St at E Berkeley St</td>\n",
       "      <td>42.345392</td>\n",
       "      <td>-71.069616</td>\n",
       "      <td>Boston</td>\n",
       "      <td>8</td>\n",
       "      <td>5</td>\n",
       "      <td>13</td>\n",
       "      <td>2116</td>\n",
       "      <td>0</td>\n",
       "    </tr>\n",
       "    <tr>\n",
       "      <th>2</th>\n",
       "      <td>5</td>\n",
       "      <td>Northeastern University - North Parking Lot</td>\n",
       "      <td>42.341814</td>\n",
       "      <td>-71.090179</td>\n",
       "      <td>Boston</td>\n",
       "      <td>4</td>\n",
       "      <td>5</td>\n",
       "      <td>9</td>\n",
       "      <td>2115</td>\n",
       "      <td>0</td>\n",
       "    </tr>\n",
       "  </tbody>\n",
       "</table>\n",
       "</div>"
      ],
      "text/plain": [
       "   ID                                            Station   Latitude  \\\n",
       "0   3  Colleges of the Fenway - Fenway at Avenue Loui...  42.340115   \n",
       "1   4                        Tremont St at E Berkeley St  42.345392   \n",
       "2   5        Northeastern University - North Parking Lot  42.341814   \n",
       "\n",
       "   Longitude Municipality  Current_Bikes  Empty_Docks  Num_of_Docks   zip  \\\n",
       "0 -71.100619       Boston             11            0            11  2115   \n",
       "1 -71.069616       Boston              8            5            13  2116   \n",
       "2 -71.090179       Boston              4            5             9  2115   \n",
       "\n",
       "   zone  \n",
       "0     0  \n",
       "1     0  \n",
       "2     0  "
      ]
     },
     "execution_count": 4,
     "metadata": {},
     "output_type": "execute_result"
    }
   ],
   "source": [
    "station_zip.head(3)"
   ]
  },
  {
   "cell_type": "code",
   "execution_count": 5,
   "metadata": {},
   "outputs": [
    {
     "data": {
      "text/html": [
       "<div>\n",
       "<style scoped>\n",
       "    .dataframe tbody tr th:only-of-type {\n",
       "        vertical-align: middle;\n",
       "    }\n",
       "\n",
       "    .dataframe tbody tr th {\n",
       "        vertical-align: top;\n",
       "    }\n",
       "\n",
       "    .dataframe thead th {\n",
       "        text-align: right;\n",
       "    }\n",
       "</style>\n",
       "<table border=\"1\" class=\"dataframe\">\n",
       "  <thead>\n",
       "    <tr style=\"text-align: right;\">\n",
       "      <th></th>\n",
       "      <th>Metro_station</th>\n",
       "      <th>Latitude</th>\n",
       "      <th>Longitude</th>\n",
       "      <th>Red</th>\n",
       "      <th>Orange</th>\n",
       "      <th>Blue</th>\n",
       "      <th>GreenE</th>\n",
       "      <th>GreenD</th>\n",
       "      <th>GreenC</th>\n",
       "      <th>GreenB</th>\n",
       "    </tr>\n",
       "  </thead>\n",
       "  <tbody>\n",
       "    <tr>\n",
       "      <th>0</th>\n",
       "      <td>Alewife</td>\n",
       "      <td>42.395428</td>\n",
       "      <td>-71.142483</td>\n",
       "      <td>True</td>\n",
       "      <td>False</td>\n",
       "      <td>False</td>\n",
       "      <td>False</td>\n",
       "      <td>False</td>\n",
       "      <td>False</td>\n",
       "      <td>False</td>\n",
       "    </tr>\n",
       "    <tr>\n",
       "      <th>1</th>\n",
       "      <td>Allston Street</td>\n",
       "      <td>42.348701</td>\n",
       "      <td>-71.137955</td>\n",
       "      <td>False</td>\n",
       "      <td>False</td>\n",
       "      <td>False</td>\n",
       "      <td>False</td>\n",
       "      <td>False</td>\n",
       "      <td>False</td>\n",
       "      <td>True</td>\n",
       "    </tr>\n",
       "    <tr>\n",
       "      <th>2</th>\n",
       "      <td>Andrew</td>\n",
       "      <td>42.330154</td>\n",
       "      <td>-71.057655</td>\n",
       "      <td>True</td>\n",
       "      <td>False</td>\n",
       "      <td>False</td>\n",
       "      <td>False</td>\n",
       "      <td>False</td>\n",
       "      <td>False</td>\n",
       "      <td>False</td>\n",
       "    </tr>\n",
       "  </tbody>\n",
       "</table>\n",
       "</div>"
      ],
      "text/plain": [
       "    Metro_station   Latitude  Longitude    Red  Orange   Blue  GreenE  GreenD  \\\n",
       "0         Alewife  42.395428 -71.142483   True   False  False   False   False   \n",
       "1  Allston Street  42.348701 -71.137955  False   False  False   False   False   \n",
       "2          Andrew  42.330154 -71.057655   True   False  False   False   False   \n",
       "\n",
       "   GreenC  GreenB  \n",
       "0   False   False  \n",
       "1   False    True  \n",
       "2   False   False  "
      ]
     },
     "execution_count": 5,
     "metadata": {},
     "output_type": "execute_result"
    }
   ],
   "source": [
    "MBTA_subway.head(3)"
   ]
  },
  {
   "cell_type": "code",
   "execution_count": 6,
   "metadata": {},
   "outputs": [
    {
     "data": {
      "text/html": [
       "<div>\n",
       "<style scoped>\n",
       "    .dataframe tbody tr th:only-of-type {\n",
       "        vertical-align: middle;\n",
       "    }\n",
       "\n",
       "    .dataframe tbody tr th {\n",
       "        vertical-align: top;\n",
       "    }\n",
       "\n",
       "    .dataframe thead th {\n",
       "        text-align: right;\n",
       "    }\n",
       "</style>\n",
       "<table border=\"1\" class=\"dataframe\">\n",
       "  <thead>\n",
       "    <tr style=\"text-align: right;\">\n",
       "      <th></th>\n",
       "      <th>ID</th>\n",
       "      <th>Latitude</th>\n",
       "      <th>Longitude</th>\n",
       "      <th>Station</th>\n",
       "      <th>0</th>\n",
       "      <th>1</th>\n",
       "      <th>2</th>\n",
       "      <th>3</th>\n",
       "      <th>4</th>\n",
       "      <th>5</th>\n",
       "      <th>...</th>\n",
       "      <th>16</th>\n",
       "      <th>17</th>\n",
       "      <th>18</th>\n",
       "      <th>19</th>\n",
       "      <th>20</th>\n",
       "      <th>21</th>\n",
       "      <th>22</th>\n",
       "      <th>23</th>\n",
       "      <th>mean</th>\n",
       "      <th>median</th>\n",
       "    </tr>\n",
       "  </thead>\n",
       "  <tbody>\n",
       "    <tr>\n",
       "      <th>0</th>\n",
       "      <td>3</td>\n",
       "      <td>42.340115</td>\n",
       "      <td>-71.100619</td>\n",
       "      <td>Colleges of the Fenway - Fenway at Avenue Loui...</td>\n",
       "      <td>0.800000</td>\n",
       "      <td>0.733333</td>\n",
       "      <td>0.733333</td>\n",
       "      <td>0.733333</td>\n",
       "      <td>0.733333</td>\n",
       "      <td>0.733333</td>\n",
       "      <td>...</td>\n",
       "      <td>0.133333</td>\n",
       "      <td>0.200000</td>\n",
       "      <td>0.000000</td>\n",
       "      <td>0.200000</td>\n",
       "      <td>0.200000</td>\n",
       "      <td>0.266667</td>\n",
       "      <td>0.666667</td>\n",
       "      <td>0.600000</td>\n",
       "      <td>0.550000</td>\n",
       "      <td>0.666667</td>\n",
       "    </tr>\n",
       "    <tr>\n",
       "      <th>1</th>\n",
       "      <td>4</td>\n",
       "      <td>42.345392</td>\n",
       "      <td>-71.069616</td>\n",
       "      <td>Tremont St at E Berkeley St</td>\n",
       "      <td>1.000000</td>\n",
       "      <td>0.705882</td>\n",
       "      <td>0.705882</td>\n",
       "      <td>0.764706</td>\n",
       "      <td>0.764706</td>\n",
       "      <td>0.764706</td>\n",
       "      <td>...</td>\n",
       "      <td>0.470588</td>\n",
       "      <td>0.941176</td>\n",
       "      <td>0.823529</td>\n",
       "      <td>0.764706</td>\n",
       "      <td>0.705882</td>\n",
       "      <td>0.823529</td>\n",
       "      <td>0.823529</td>\n",
       "      <td>0.882353</td>\n",
       "      <td>0.764706</td>\n",
       "      <td>0.764706</td>\n",
       "    </tr>\n",
       "    <tr>\n",
       "      <th>2</th>\n",
       "      <td>5</td>\n",
       "      <td>42.341814</td>\n",
       "      <td>-71.090179</td>\n",
       "      <td>Northeastern University - North Parking Lot</td>\n",
       "      <td>0.083333</td>\n",
       "      <td>0.083333</td>\n",
       "      <td>0.083333</td>\n",
       "      <td>0.083333</td>\n",
       "      <td>0.083333</td>\n",
       "      <td>0.916667</td>\n",
       "      <td>...</td>\n",
       "      <td>0.000000</td>\n",
       "      <td>0.066667</td>\n",
       "      <td>0.200000</td>\n",
       "      <td>0.266667</td>\n",
       "      <td>0.133333</td>\n",
       "      <td>0.083333</td>\n",
       "      <td>0.083333</td>\n",
       "      <td>0.083333</td>\n",
       "      <td>0.197917</td>\n",
       "      <td>0.083333</td>\n",
       "    </tr>\n",
       "  </tbody>\n",
       "</table>\n",
       "<p>3 rows × 30 columns</p>\n",
       "</div>"
      ],
      "text/plain": [
       "   ID   Latitude  Longitude  \\\n",
       "0   3  42.340115 -71.100619   \n",
       "1   4  42.345392 -71.069616   \n",
       "2   5  42.341814 -71.090179   \n",
       "\n",
       "                                             Station         0         1  \\\n",
       "0  Colleges of the Fenway - Fenway at Avenue Loui...  0.800000  0.733333   \n",
       "1                        Tremont St at E Berkeley St  1.000000  0.705882   \n",
       "2        Northeastern University - North Parking Lot  0.083333  0.083333   \n",
       "\n",
       "          2         3         4         5  ...        16        17        18  \\\n",
       "0  0.733333  0.733333  0.733333  0.733333  ...  0.133333  0.200000  0.000000   \n",
       "1  0.705882  0.764706  0.764706  0.764706  ...  0.470588  0.941176  0.823529   \n",
       "2  0.083333  0.083333  0.083333  0.916667  ...  0.000000  0.066667  0.200000   \n",
       "\n",
       "         19        20        21        22        23      mean    median  \n",
       "0  0.200000  0.200000  0.266667  0.666667  0.600000  0.550000  0.666667  \n",
       "1  0.764706  0.705882  0.823529  0.823529  0.882353  0.764706  0.764706  \n",
       "2  0.266667  0.133333  0.083333  0.083333  0.083333  0.197917  0.083333  \n",
       "\n",
       "[3 rows x 30 columns]"
      ]
     },
     "execution_count": 6,
     "metadata": {},
     "output_type": "execute_result"
    }
   ],
   "source": [
    "hourly_empty_stations.head(3)"
   ]
  },
  {
   "cell_type": "code",
   "execution_count": 7,
   "metadata": {},
   "outputs": [],
   "source": [
    "maindf=pd.merge(station_zip[[\"ID\", \"Latitude\", \"Longitude\", \"Num_of_Docks\", \"zip\", \"zone\"]], tripmonth[[\"start_station_id\", \"Num_Op_Months\", \"Ave_Trips_Per_Month\"]], \n",
    "                how=\"left\", left_on=\"ID\", right_on=\"start_station_id\").drop(\"start_station_id\", axis=1)\n"
   ]
  },
  {
   "cell_type": "code",
   "execution_count": 8,
   "metadata": {},
   "outputs": [
    {
     "data": {
      "text/html": [
       "<div>\n",
       "<style scoped>\n",
       "    .dataframe tbody tr th:only-of-type {\n",
       "        vertical-align: middle;\n",
       "    }\n",
       "\n",
       "    .dataframe tbody tr th {\n",
       "        vertical-align: top;\n",
       "    }\n",
       "\n",
       "    .dataframe thead th {\n",
       "        text-align: right;\n",
       "    }\n",
       "</style>\n",
       "<table border=\"1\" class=\"dataframe\">\n",
       "  <thead>\n",
       "    <tr style=\"text-align: right;\">\n",
       "      <th></th>\n",
       "      <th>ID</th>\n",
       "      <th>Latitude</th>\n",
       "      <th>Longitude</th>\n",
       "      <th>Num_of_Docks</th>\n",
       "      <th>zip</th>\n",
       "      <th>zone</th>\n",
       "      <th>Num_Op_Months</th>\n",
       "      <th>Ave_Trips_Per_Month</th>\n",
       "    </tr>\n",
       "  </thead>\n",
       "  <tbody>\n",
       "    <tr>\n",
       "      <th>295</th>\n",
       "      <td>408</td>\n",
       "      <td>42.387175</td>\n",
       "      <td>-71.087144</td>\n",
       "      <td>15</td>\n",
       "      <td>2145</td>\n",
       "      <td>5</td>\n",
       "      <td>1.0</td>\n",
       "      <td>48.0</td>\n",
       "    </tr>\n",
       "    <tr>\n",
       "      <th>296</th>\n",
       "      <td>409</td>\n",
       "      <td>42.389524</td>\n",
       "      <td>-71.116941</td>\n",
       "      <td>19</td>\n",
       "      <td>2144</td>\n",
       "      <td>5</td>\n",
       "      <td>1.0</td>\n",
       "      <td>112.0</td>\n",
       "    </tr>\n",
       "    <tr>\n",
       "      <th>297</th>\n",
       "      <td>410</td>\n",
       "      <td>42.291679</td>\n",
       "      <td>-71.057263</td>\n",
       "      <td>17</td>\n",
       "      <td>2122</td>\n",
       "      <td>1</td>\n",
       "      <td>1.0</td>\n",
       "      <td>1.0</td>\n",
       "    </tr>\n",
       "    <tr>\n",
       "      <th>298</th>\n",
       "      <td>411</td>\n",
       "      <td>42.291756</td>\n",
       "      <td>-71.062592</td>\n",
       "      <td>15</td>\n",
       "      <td>2124</td>\n",
       "      <td>1</td>\n",
       "      <td>NaN</td>\n",
       "      <td>NaN</td>\n",
       "    </tr>\n",
       "    <tr>\n",
       "      <th>299</th>\n",
       "      <td>412</td>\n",
       "      <td>42.343033</td>\n",
       "      <td>-71.066887</td>\n",
       "      <td>19</td>\n",
       "      <td>2118</td>\n",
       "      <td>0</td>\n",
       "      <td>1.0</td>\n",
       "      <td>4.0</td>\n",
       "    </tr>\n",
       "    <tr>\n",
       "      <th>300</th>\n",
       "      <td>413</td>\n",
       "      <td>42.369553</td>\n",
       "      <td>-71.085790</td>\n",
       "      <td>19</td>\n",
       "      <td>2141</td>\n",
       "      <td>4</td>\n",
       "      <td>NaN</td>\n",
       "      <td>NaN</td>\n",
       "    </tr>\n",
       "    <tr>\n",
       "      <th>301</th>\n",
       "      <td>414</td>\n",
       "      <td>42.397908</td>\n",
       "      <td>-71.147971</td>\n",
       "      <td>23</td>\n",
       "      <td>2140</td>\n",
       "      <td>4</td>\n",
       "      <td>NaN</td>\n",
       "      <td>NaN</td>\n",
       "    </tr>\n",
       "    <tr>\n",
       "      <th>302</th>\n",
       "      <td>415</td>\n",
       "      <td>42.349544</td>\n",
       "      <td>-71.072421</td>\n",
       "      <td>19</td>\n",
       "      <td>2116</td>\n",
       "      <td>0</td>\n",
       "      <td>NaN</td>\n",
       "      <td>NaN</td>\n",
       "    </tr>\n",
       "    <tr>\n",
       "      <th>303</th>\n",
       "      <td>416</td>\n",
       "      <td>42.364356</td>\n",
       "      <td>-71.069594</td>\n",
       "      <td>15</td>\n",
       "      <td>2114</td>\n",
       "      <td>0</td>\n",
       "      <td>NaN</td>\n",
       "      <td>NaN</td>\n",
       "    </tr>\n",
       "    <tr>\n",
       "      <th>304</th>\n",
       "      <td>417</td>\n",
       "      <td>42.344742</td>\n",
       "      <td>-71.076482</td>\n",
       "      <td>19</td>\n",
       "      <td>2116</td>\n",
       "      <td>0</td>\n",
       "      <td>NaN</td>\n",
       "      <td>NaN</td>\n",
       "    </tr>\n",
       "  </tbody>\n",
       "</table>\n",
       "</div>"
      ],
      "text/plain": [
       "      ID   Latitude  Longitude  Num_of_Docks   zip  zone  Num_Op_Months  \\\n",
       "295  408  42.387175 -71.087144            15  2145     5            1.0   \n",
       "296  409  42.389524 -71.116941            19  2144     5            1.0   \n",
       "297  410  42.291679 -71.057263            17  2122     1            1.0   \n",
       "298  411  42.291756 -71.062592            15  2124     1            NaN   \n",
       "299  412  42.343033 -71.066887            19  2118     0            1.0   \n",
       "300  413  42.369553 -71.085790            19  2141     4            NaN   \n",
       "301  414  42.397908 -71.147971            23  2140     4            NaN   \n",
       "302  415  42.349544 -71.072421            19  2116     0            NaN   \n",
       "303  416  42.364356 -71.069594            15  2114     0            NaN   \n",
       "304  417  42.344742 -71.076482            19  2116     0            NaN   \n",
       "\n",
       "     Ave_Trips_Per_Month  \n",
       "295                 48.0  \n",
       "296                112.0  \n",
       "297                  1.0  \n",
       "298                  NaN  \n",
       "299                  4.0  \n",
       "300                  NaN  \n",
       "301                  NaN  \n",
       "302                  NaN  \n",
       "303                  NaN  \n",
       "304                  NaN  "
      ]
     },
     "execution_count": 8,
     "metadata": {},
     "output_type": "execute_result"
    }
   ],
   "source": [
    "maindf.tail(10)"
   ]
  },
  {
   "cell_type": "markdown",
   "metadata": {},
   "source": [
    "## Define variables\n",
    "* nodes_bikes\n",
    "* nodes_subway\n",
    "* bikecenter\n",
    "* dist_from_bikes_to_bikes\n",
    "* mindist_from_bikes_to_subway\n",
    "* dist_bikecenter\n",
    "* dist_bikemit\n",
    "* num_bikenodes_in_01\n",
    "* biketripcount_in_01\n",
    "* biketripcount_in_005\n",
    "* mindist_to_pop\n",
    "\n"
   ]
  },
  {
   "cell_type": "code",
   "execution_count": 9,
   "metadata": {},
   "outputs": [],
   "source": [
    "nodes_bikes=np.array(list(zip(maindf.Latitude, maindf.Longitude)))\n",
    "nodes_subway=np.array(list(zip(MBTA_subway.Latitude, MBTA_subway.Longitude)))"
   ]
  },
  {
   "cell_type": "code",
   "execution_count": 10,
   "metadata": {},
   "outputs": [
    {
     "name": "stdout",
     "output_type": "stream",
     "text": [
      "[ 42.348717 -71.085954]\n"
     ]
    }
   ],
   "source": [
    "# The most center point : the average distance to all other nodes is the smallest\n",
    "def find_center_node(array2d):\n",
    "    avg_dists_nodes=squareform(pdist(array2d)).mean(axis=1)\n",
    "    center_node=array2d[avg_dists_nodes.argmin()]\n",
    "    return center_node\n",
    "    \n",
    "bikecenter=find_center_node(nodes_bikes)\n",
    "print(bikecenter)"
   ]
  },
  {
   "cell_type": "code",
   "execution_count": 11,
   "metadata": {},
   "outputs": [],
   "source": [
    "# distance from each bike station to bikecenter\n",
    "def dist_nodes_to_singlenode(array2d, node): \n",
    "    dist_bikecenter=cdist(array2d, node)\n",
    "    return dist_bikecenter\n",
    "\n",
    "maindf[\"Dist_to_Bikecenter\"]=dist_nodes_to_singlenode(nodes_bikes, [bikecenter])"
   ]
  },
  {
   "cell_type": "code",
   "execution_count": 12,
   "metadata": {},
   "outputs": [],
   "source": [
    "# Shortest distance from each bike station to its nearest subway station\n",
    "def min_dist_from_nodesA_to_nodesB(array2d_A, array2d_B):\n",
    "    mindist=np.min(cdist(array2d_A, array2d_B), axis=1)\n",
    "    return mindist\n",
    "\n",
    "maindf[\"Min_Dist_Bikes_Sub\"]=min_dist_from_nodesA_to_nodesB(nodes_bikes, nodes_subway)*1000"
   ]
  },
  {
   "cell_type": "code",
   "execution_count": 16,
   "metadata": {},
   "outputs": [],
   "source": [
    "# Matrix which contains the pairwise distance between bike stations\n",
    "dist_from_bikes_to_bikes=cdist(nodes_bikes, nodes_bikes)\n",
    "\n",
    "# Number of bike stations within radius of 0.01 of each station\n",
    "maindf[\"Num_Bikenodes_in_01\"]=(pd.DataFrame(dist_from_bikes_to_bikes)< 0.01).sum()"
   ]
  },
  {
   "cell_type": "code",
   "execution_count": 17,
   "metadata": {},
   "outputs": [],
   "source": [
    "# Average number of bike trips made within radius 0.01 and 0.005 of each station\n",
    "def count_trips_per_station(df, nodes_bikes, radius):\n",
    "    biketripcount=[]\n",
    "    for i in range(len(nodes_bikes)):\n",
    "        biketripcount.append(df.Ave_Trips_Per_Month[dist_from_bikes_to_bikes[i]<radius].sum())\n",
    "    return biketripcount\n",
    "\n",
    "maindf[\"Monthly_Ave_Tripcount_01\"]=count_trips_per_station(maindf, nodes_bikes, 0.01)\n",
    "maindf[\"Monthly_Ave_Tripcount_005\"]=count_trips_per_station(maindf, nodes_bikes, 0.005)"
   ]
  },
  {
   "cell_type": "code",
   "execution_count": 18,
   "metadata": {},
   "outputs": [],
   "source": [
    "# The line name of nearest subway station\n",
    "nearest_subwayline=MBTA_subway.iloc[np.argmin(cdist(nodes_bikes, nodes_subway), axis=1)][[\"Red\", \"Orange\", \"Blue\", \"GreenE\", \"GreenD\", \"GreenC\", \"GreenB\" ]]\n",
    "nearest_subwayline=nearest_subwayline.reset_index().drop(\"index\", axis=1)\n",
    "maindf=pd.concat([maindf, nearest_subwayline.astype(int)], axis=1)"
   ]
  },
  {
   "cell_type": "code",
   "execution_count": 19,
   "metadata": {},
   "outputs": [
    {
     "data": {
      "text/html": [
       "<div>\n",
       "<style scoped>\n",
       "    .dataframe tbody tr th:only-of-type {\n",
       "        vertical-align: middle;\n",
       "    }\n",
       "\n",
       "    .dataframe tbody tr th {\n",
       "        vertical-align: top;\n",
       "    }\n",
       "\n",
       "    .dataframe thead th {\n",
       "        text-align: right;\n",
       "    }\n",
       "</style>\n",
       "<table border=\"1\" class=\"dataframe\">\n",
       "  <thead>\n",
       "    <tr style=\"text-align: right;\">\n",
       "      <th></th>\n",
       "      <th>ID</th>\n",
       "      <th>Latitude</th>\n",
       "      <th>Longitude</th>\n",
       "      <th>Num_of_Docks</th>\n",
       "      <th>zip</th>\n",
       "      <th>zone</th>\n",
       "      <th>Num_Op_Months</th>\n",
       "      <th>Ave_Trips_Per_Month</th>\n",
       "      <th>Dist_to_Bikecenter</th>\n",
       "      <th>Min_Dist_Bikes_Sub</th>\n",
       "      <th>Num_Bikenodes_in_01</th>\n",
       "      <th>Monthly_Ave_Tripcount_01</th>\n",
       "      <th>Monthly_Ave_Tripcount_005</th>\n",
       "      <th>Red</th>\n",
       "      <th>Orange</th>\n",
       "      <th>Blue</th>\n",
       "      <th>GreenE</th>\n",
       "      <th>GreenD</th>\n",
       "      <th>GreenC</th>\n",
       "      <th>GreenB</th>\n",
       "    </tr>\n",
       "  </thead>\n",
       "  <tbody>\n",
       "    <tr>\n",
       "      <th>296</th>\n",
       "      <td>409</td>\n",
       "      <td>42.389524</td>\n",
       "      <td>-71.116941</td>\n",
       "      <td>19</td>\n",
       "      <td>2144</td>\n",
       "      <td>5</td>\n",
       "      <td>1.0</td>\n",
       "      <td>112.0</td>\n",
       "      <td>0.051239</td>\n",
       "      <td>2.477433</td>\n",
       "      <td>10</td>\n",
       "      <td>4698.529091</td>\n",
       "      <td>1600.800000</td>\n",
       "      <td>1</td>\n",
       "      <td>0</td>\n",
       "      <td>0</td>\n",
       "      <td>0</td>\n",
       "      <td>0</td>\n",
       "      <td>0</td>\n",
       "      <td>0</td>\n",
       "    </tr>\n",
       "    <tr>\n",
       "      <th>297</th>\n",
       "      <td>410</td>\n",
       "      <td>42.291679</td>\n",
       "      <td>-71.057263</td>\n",
       "      <td>17</td>\n",
       "      <td>2122</td>\n",
       "      <td>1</td>\n",
       "      <td>1.0</td>\n",
       "      <td>1.0</td>\n",
       "      <td>0.063847</td>\n",
       "      <td>8.597112</td>\n",
       "      <td>6</td>\n",
       "      <td>312.791667</td>\n",
       "      <td>1.000000</td>\n",
       "      <td>1</td>\n",
       "      <td>0</td>\n",
       "      <td>0</td>\n",
       "      <td>0</td>\n",
       "      <td>0</td>\n",
       "      <td>0</td>\n",
       "      <td>0</td>\n",
       "    </tr>\n",
       "    <tr>\n",
       "      <th>298</th>\n",
       "      <td>412</td>\n",
       "      <td>42.343033</td>\n",
       "      <td>-71.066887</td>\n",
       "      <td>19</td>\n",
       "      <td>2118</td>\n",
       "      <td>0</td>\n",
       "      <td>1.0</td>\n",
       "      <td>4.0</td>\n",
       "      <td>0.019896</td>\n",
       "      <td>7.264126</td>\n",
       "      <td>19</td>\n",
       "      <td>10238.592381</td>\n",
       "      <td>3412.247273</td>\n",
       "      <td>0</td>\n",
       "      <td>1</td>\n",
       "      <td>0</td>\n",
       "      <td>0</td>\n",
       "      <td>0</td>\n",
       "      <td>0</td>\n",
       "      <td>0</td>\n",
       "    </tr>\n",
       "  </tbody>\n",
       "</table>\n",
       "</div>"
      ],
      "text/plain": [
       "      ID   Latitude  Longitude  Num_of_Docks   zip  zone  Num_Op_Months  \\\n",
       "296  409  42.389524 -71.116941            19  2144     5            1.0   \n",
       "297  410  42.291679 -71.057263            17  2122     1            1.0   \n",
       "298  412  42.343033 -71.066887            19  2118     0            1.0   \n",
       "\n",
       "     Ave_Trips_Per_Month  Dist_to_Bikecenter  Min_Dist_Bikes_Sub  \\\n",
       "296                112.0            0.051239            2.477433   \n",
       "297                  1.0            0.063847            8.597112   \n",
       "298                  4.0            0.019896            7.264126   \n",
       "\n",
       "     Num_Bikenodes_in_01  Monthly_Ave_Tripcount_01  Monthly_Ave_Tripcount_005  \\\n",
       "296                   10               4698.529091                1600.800000   \n",
       "297                    6                312.791667                   1.000000   \n",
       "298                   19              10238.592381                3412.247273   \n",
       "\n",
       "     Red  Orange  Blue  GreenE  GreenD  GreenC  GreenB  \n",
       "296    1       0     0       0       0       0       0  \n",
       "297    1       0     0       0       0       0       0  \n",
       "298    0       1     0       0       0       0       0  "
      ]
     },
     "execution_count": 19,
     "metadata": {},
     "output_type": "execute_result"
    }
   ],
   "source": [
    "maindf=maindf.dropna()\n",
    "maindf=maindf.reset_index().drop(\"index\", axis=1)\n",
    "maindf.tail(3)"
   ]
  },
  {
   "cell_type": "markdown",
   "metadata": {},
   "source": [
    "## Model Training"
   ]
  },
  {
   "cell_type": "markdown",
   "metadata": {},
   "source": [
    "### Gradient Boost Regressor with variable transformation"
   ]
  },
  {
   "cell_type": "code",
   "execution_count": 20,
   "metadata": {},
   "outputs": [],
   "source": [
    "X=maindf.drop([\"ID\",\"Num_of_Docks\",\"Num_Op_Months\",\"zip\",\"Ave_Trips_Per_Month\"], axis=1)\n",
    "y=maindf.Ave_Trips_Per_Month"
   ]
  },
  {
   "cell_type": "code",
   "execution_count": 38,
   "metadata": {},
   "outputs": [
    {
     "name": "stdout",
     "output_type": "stream",
     "text": [
      "0.9999998286794786\n",
      "0.7856001121333742\n",
      "0.7284445772038701\n"
     ]
    }
   ],
   "source": [
    "X_train, X_test, y_train, y_test = train_test_split(X, y, test_size=0.25, random_state=40)\n",
    "\n",
    "GBregr = GradientBoostingRegressor(n_estimators=200, max_depth=7)\n",
    "GBregr.fit(X_train, np.log(y_train))\n",
    "print(GBregr.score(X_train, np.log(y_train)))\n",
    "print(GBregr.score(X_test, np.log(y_test)))\n",
    "\n",
    "\n",
    "print((cross_validate(GBregr, X_train, np.log(y_train), cv=5)[\"test_score\"]).mean())"
   ]
  },
  {
   "cell_type": "code",
   "execution_count": 40,
   "metadata": {},
   "outputs": [
    {
     "data": {
      "image/png": "[encoded data removed]",
      "text/plain": [
       "<Figure size 360x360 with 1 Axes>"
      ]
     },
     "metadata": {
      "needs_background": "light"
     },
     "output_type": "display_data"
    }
   ],
   "source": [
    "ypredict=GBregr.predict(X_test)\n",
    "plt.subplots(figsize=(5,5))\n",
    "plt.scatter(ypredict, np.log(y_test))\n",
    "_=plt.xlim(0, 9)\n",
    "_=plt.ylim(0, 9)"
   ]
  },
  {
   "cell_type": "markdown",
   "metadata": {},
   "source": [
    "### Gradient Boost Regressor *without* variable transformation"
   ]
  },
  {
   "cell_type": "code",
   "execution_count": 45,
   "metadata": {},
   "outputs": [
    {
     "name": "stdout",
     "output_type": "stream",
     "text": [
      "0.999999871093151\n",
      "0.6445225713085558\n",
      "0.1524022674715526\n"
     ]
    },
    {
     "data": {
      "image/png": "[encoded data removed]",
      "text/plain": [
       "<Figure size 360x360 with 1 Axes>"
      ]
     },
     "metadata": {
      "needs_background": "light"
     },
     "output_type": "display_data"
    }
   ],
   "source": [
    "X_train, X_test, y_train, y_test = train_test_split(X, y, test_size=0.25, random_state=40)\n",
    "\n",
    "GBregr = GradientBoostingRegressor(n_estimators=200, max_depth=7)\n",
    "GBregr.fit(X_train, y_train)\n",
    "print(GBregr.score(X_train, y_train))\n",
    "print(GBregr.score(X_test, y_test))\n",
    "\n",
    "\n",
    "print((cross_validate(GBregr, X_train, y_train, cv=5)[\"test_score\"]).mean())\n",
    "\n",
    "ypredict=GBregr.predict(X_test)\n",
    "plt.subplots(figsize=(5,5))\n",
    "plt.scatter(ypredict, y_test)\n",
    "_=plt.xlim(0,3500)\n",
    "_=plt.ylim(0,3500)\n"
   ]
  },
  {
   "cell_type": "markdown",
   "metadata": {},
   "source": [
    "### Linear Regression"
   ]
  },
  {
   "cell_type": "code",
   "execution_count": 26,
   "metadata": {},
   "outputs": [],
   "source": [
    "X_linear=X.drop([\"Latitude\", \"Longitude\"], axis=1)\n",
    "y_linear=maindf.Ave_Trips_Per_Month\n",
    "X_train, X_test, y_train, y_test = train_test_split(X_linear, y_linear, test_size=0.25, random_state=40)"
   ]
  },
  {
   "cell_type": "code",
   "execution_count": 28,
   "metadata": {},
   "outputs": [
    {
     "name": "stdout",
     "output_type": "stream",
     "text": [
      "0.5740635107188209\n",
      "0.7512832316385996\n",
      "0.5271376670253531\n"
     ]
    }
   ],
   "source": [
    "model = LinearRegression()\n",
    "model.fit(X_train, np.log(y_train))\n",
    "print(model.score(X_train, np.log(y_train)))\n",
    "print(model.score(X_test, np.log(y_test)))\n",
    "\n",
    "\n",
    "print((cross_validate(model, X_train, np.log(y_train), cv=5)[\"test_score\"]).mean())"
   ]
  },
  {
   "cell_type": "code",
   "execution_count": 30,
   "metadata": {},
   "outputs": [
    {
     "name": "stdout",
     "output_type": "stream",
     "text": [
      "0.6069337104520641\n",
      "0.6276182831865805\n",
      "0.4662353934195833\n"
     ]
    }
   ],
   "source": [
    "model = LinearRegression()\n",
    "model.fit(X_train, y_train)\n",
    "print(model.score(X_train, y_train))\n",
    "print(model.score(X_test, y_test))\n",
    "\n",
    "\n",
    "print((cross_validate(model, X_train, y_train, cv=5)[\"test_score\"]).mean())"
   ]
  },
  {
   "cell_type": "markdown",
   "metadata": {},
   "source": [
    "### Random Forest with variable transformation"
   ]
  },
  {
   "cell_type": "code",
   "execution_count": 41,
   "metadata": {},
   "outputs": [
    {
     "name": "stderr",
     "output_type": "stream",
     "text": [
      "/Users/kkim14/anaconda3/lib/python3.6/site-packages/sklearn/ensemble/forest.py:245: FutureWarning: The default value of n_estimators will change from 10 in version 0.20 to 100 in 0.22.\n",
      "  \"10 in version 0.20 to 100 in 0.22.\", FutureWarning)\n"
     ]
    },
    {
     "name": "stdout",
     "output_type": "stream",
     "text": [
      "0.9630823808502875\n",
      "0.7898096439381699\n",
      "0.7257052046919366\n"
     ]
    },
    {
     "data": {
      "image/png": "[encoded data removed]",
      "text/plain": [
       "<Figure size 360x360 with 1 Axes>"
      ]
     },
     "metadata": {
      "needs_background": "light"
     },
     "output_type": "display_data"
    }
   ],
   "source": [
    "forest = RandomForestRegressor()\n",
    "forest.fit(X_train, np.log(y_train))\n",
    "print(forest.score(X_train, np.log(y_train)))\n",
    "print(forest.score(X_test, np.log(y_test)))\n",
    "\n",
    "print((cross_validate(forest, X_train, np.log(y_train), cv=5)[\"test_score\"]).mean())\n",
    "\n",
    "ypredict=forest.predict(X_test)\n",
    "plt.subplots(figsize=(5,5))\n",
    "plt.scatter(ypredict, np.log(y_test))\n",
    "_=plt.xlim(0,9)\n",
    "_=plt.ylim(0,9)"
   ]
  },
  {
   "cell_type": "markdown",
   "metadata": {},
   "source": [
    "### Random Forest with variable transformation"
   ]
  },
  {
   "cell_type": "code",
   "execution_count": 46,
   "metadata": {},
   "outputs": [
    {
     "name": "stderr",
     "output_type": "stream",
     "text": [
      "/Users/kkim14/anaconda3/lib/python3.6/site-packages/sklearn/ensemble/forest.py:245: FutureWarning: The default value of n_estimators will change from 10 in version 0.20 to 100 in 0.22.\n",
      "  \"10 in version 0.20 to 100 in 0.22.\", FutureWarning)\n"
     ]
    },
    {
     "name": "stdout",
     "output_type": "stream",
     "text": [
      "0.9207490392113977\n",
      "0.522025696557916\n",
      "0.44833225980920427\n"
     ]
    },
    {
     "data": {
      "image/png": "[encoded data removed]",
      "text/plain": [
       "<Figure size 360x360 with 1 Axes>"
      ]
     },
     "metadata": {
      "needs_background": "light"
     },
     "output_type": "display_data"
    }
   ],
   "source": [
    "forest = RandomForestRegressor()\n",
    "forest.fit(X_train, y_train)\n",
    "print(forest.score(X_train, y_train))\n",
    "print(forest.score(X_test, y_test))\n",
    "\n",
    "print((cross_validate(forest, X_train, y_train, cv=5)[\"test_score\"]).mean())\n",
    "\n",
    "ypredict=forest.predict(X_test)\n",
    "plt.subplots(figsize=(5,5))\n",
    "plt.scatter(ypredict, y_test)\n",
    "_=plt.xlim(0,3500)\n",
    "_=plt.ylim(0,3500)"
   ]
  },
  {
   "cell_type": "markdown",
   "metadata": {},
   "source": [
    "### Neural Network"
   ]
  },
  {
   "cell_type": "code",
   "execution_count": 43,
   "metadata": {},
   "outputs": [],
   "source": [
    "n_cols = len(X.columns)\n",
    "\n",
    "# Set up the model\n",
    "model = Sequential()\n",
    "model.add(Dense(100, activation='relu', input_shape=(n_cols, )))\n",
    "model.add(Dense(100, activation='relu'))\n",
    "model.add(Dense(1))\n",
    "model.compile(optimizer='adam', loss='mean_squared_error')\n"
   ]
  },
  {
   "cell_type": "code",
   "execution_count": 47,
   "metadata": {},
   "outputs": [
    {
     "name": "stdout",
     "output_type": "stream",
     "text": [
      "Epoch 1/1\n",
      "224/224 [==============================] - 0s 53us/step - loss: 208229.2388\n"
     ]
    },
    {
     "data": {
      "image/png": "[encoded data removed]",
      "text/plain": [
       "<Figure size 360x360 with 1 Axes>"
      ]
     },
     "metadata": {
      "needs_background": "light"
     },
     "output_type": "display_data"
    }
   ],
   "source": [
    "# Fit the model\n",
    "model.fit(X_train, y_train)\n",
    "\n",
    "ypredict=model.predict(X_test)\n",
    "\n",
    "plt.subplots(figsize=(5,5))\n",
    "plt.scatter(ypredict[:,0], y_test)\n",
    "_=plt.xlim(0,3500)\n",
    "_=plt.ylim(0,3500)"
   ]
  },
  {
   "cell_type": "code",
   "execution_count": null,
   "metadata": {},
   "outputs": [],
   "source": []
  }
 ],
 "metadata": {
  "kernelspec": {
   "display_name": "Python 3",
   "language": "python",
   "name": "python3"
  },
  "language_info": {
   "codemirror_mode": {
    "name": "ipython",
    "version": 3
   },
   "file_extension": ".py",
   "mimetype": "text/x-python",
   "name": "python",
   "nbconvert_exporter": "python",
   "pygments_lexer": "ipython3",
   "version": "3.6.8"
  }
 },
 "nbformat": 4,
 "nbformat_minor": 2
}
