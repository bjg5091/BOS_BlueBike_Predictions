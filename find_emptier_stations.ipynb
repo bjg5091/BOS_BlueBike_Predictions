{
 "cells": [
  {
   "cell_type": "code",
   "execution_count": 160,
   "metadata": {},
   "outputs": [],
   "source": [
    "#import necessary libraries\n",
    "import pandas as pd\n",
    "from pandas.io.json import json_normalize\n",
    "\n",
    "%matplotlib inline"
   ]
  },
  {
   "cell_type": "code",
   "execution_count": 161,
   "metadata": {},
   "outputs": [],
   "source": [
    "def read_station(hourstamp):\n",
    "    bike_data=pd.read_json(\"../Data_raw/station\"+str(hourstamp)+\".json\", orient='records')\n",
    "    station=json_normalize(bike_data[\"stations\"])\n",
    "\n",
    "    # Clean column names\n",
    "    station=station[[\"id\", \"ba\",\"da\"]]\n",
    "    station[\"Empty_ratio\"] = station.ba / (station.ba + station.da)\n",
    "    \n",
    "    station=station.drop([\"ba\", \"da\"], axis=1)\n",
    "    station.columns = [\"ID\", \"Empty_ratio\"]\n",
    "    return station"
   ]
  },
  {
   "cell_type": "code",
   "execution_count": 162,
   "metadata": {},
   "outputs": [],
   "source": [
    "hourly_empty_station = station_zip[[\"ID\", \"Latitude\", \"Longitude\", \"Station\"]]\n",
    "for i in range(24):\n",
    "    hourly_empty_station = pd.merge(hourly_empty_station, read_station(i), how=\"left\", left_on=\"ID\", right_on=\"ID\")                                       "
   ]
  },
  {
   "cell_type": "code",
   "execution_count": 163,
   "metadata": {},
   "outputs": [],
   "source": [
    "hourly_empty_station.columns =[\"ID\", \"Latitude\", \"Longitude\", \"Station\"]+list(range(24))"
   ]
  },
  {
   "cell_type": "code",
   "execution_count": 164,
   "metadata": {},
   "outputs": [],
   "source": [
    "hourly_empty_station[\"mean\"]=hourly_empty_station.iloc[:, 4:].mean(axis=1)\n",
    "hourly_empty_station[\"median\"]=hourly_empty_station.iloc[:, 4:].median(axis=1)"
   ]
  },
  {
   "cell_type": "code",
   "execution_count": 165,
   "metadata": {},
   "outputs": [
    {
     "data": {
      "text/html": [
       "<div>\n",
       "<style scoped>\n",
       "    .dataframe tbody tr th:only-of-type {\n",
       "        vertical-align: middle;\n",
       "    }\n",
       "\n",
       "    .dataframe tbody tr th {\n",
       "        vertical-align: top;\n",
       "    }\n",
       "\n",
       "    .dataframe thead th {\n",
       "        text-align: right;\n",
       "    }\n",
       "</style>\n",
       "<table border=\"1\" class=\"dataframe\">\n",
       "  <thead>\n",
       "    <tr style=\"text-align: right;\">\n",
       "      <th></th>\n",
       "      <th>ID</th>\n",
       "      <th>Latitude</th>\n",
       "      <th>Longitude</th>\n",
       "      <th>Station</th>\n",
       "      <th>0</th>\n",
       "      <th>1</th>\n",
       "      <th>2</th>\n",
       "      <th>3</th>\n",
       "      <th>4</th>\n",
       "      <th>5</th>\n",
       "      <th>...</th>\n",
       "      <th>16</th>\n",
       "      <th>17</th>\n",
       "      <th>18</th>\n",
       "      <th>19</th>\n",
       "      <th>20</th>\n",
       "      <th>21</th>\n",
       "      <th>22</th>\n",
       "      <th>23</th>\n",
       "      <th>mean</th>\n",
       "      <th>median</th>\n",
       "    </tr>\n",
       "  </thead>\n",
       "  <tbody>\n",
       "    <tr>\n",
       "      <th>0</th>\n",
       "      <td>3</td>\n",
       "      <td>42.340115</td>\n",
       "      <td>-71.100619</td>\n",
       "      <td>Colleges of the Fenway - Fenway at Avenue Loui...</td>\n",
       "      <td>0.800000</td>\n",
       "      <td>0.733333</td>\n",
       "      <td>0.733333</td>\n",
       "      <td>0.733333</td>\n",
       "      <td>0.733333</td>\n",
       "      <td>0.733333</td>\n",
       "      <td>...</td>\n",
       "      <td>0.133333</td>\n",
       "      <td>0.200000</td>\n",
       "      <td>0.000000</td>\n",
       "      <td>0.200000</td>\n",
       "      <td>0.200000</td>\n",
       "      <td>0.266667</td>\n",
       "      <td>0.666667</td>\n",
       "      <td>0.600000</td>\n",
       "      <td>0.550000</td>\n",
       "      <td>0.666667</td>\n",
       "    </tr>\n",
       "    <tr>\n",
       "      <th>1</th>\n",
       "      <td>4</td>\n",
       "      <td>42.345392</td>\n",
       "      <td>-71.069616</td>\n",
       "      <td>Tremont St at E Berkeley St</td>\n",
       "      <td>1.000000</td>\n",
       "      <td>0.705882</td>\n",
       "      <td>0.705882</td>\n",
       "      <td>0.764706</td>\n",
       "      <td>0.764706</td>\n",
       "      <td>0.764706</td>\n",
       "      <td>...</td>\n",
       "      <td>0.470588</td>\n",
       "      <td>0.941176</td>\n",
       "      <td>0.823529</td>\n",
       "      <td>0.764706</td>\n",
       "      <td>0.705882</td>\n",
       "      <td>0.823529</td>\n",
       "      <td>0.823529</td>\n",
       "      <td>0.882353</td>\n",
       "      <td>0.764706</td>\n",
       "      <td>0.764706</td>\n",
       "    </tr>\n",
       "    <tr>\n",
       "      <th>2</th>\n",
       "      <td>5</td>\n",
       "      <td>42.341814</td>\n",
       "      <td>-71.090179</td>\n",
       "      <td>Northeastern University - North Parking Lot</td>\n",
       "      <td>0.083333</td>\n",
       "      <td>0.083333</td>\n",
       "      <td>0.083333</td>\n",
       "      <td>0.083333</td>\n",
       "      <td>0.083333</td>\n",
       "      <td>0.916667</td>\n",
       "      <td>...</td>\n",
       "      <td>0.000000</td>\n",
       "      <td>0.066667</td>\n",
       "      <td>0.200000</td>\n",
       "      <td>0.266667</td>\n",
       "      <td>0.133333</td>\n",
       "      <td>0.083333</td>\n",
       "      <td>0.083333</td>\n",
       "      <td>0.083333</td>\n",
       "      <td>0.197917</td>\n",
       "      <td>0.083333</td>\n",
       "    </tr>\n",
       "  </tbody>\n",
       "</table>\n",
       "<p>3 rows × 30 columns</p>\n",
       "</div>"
      ],
      "text/plain": [
       "   ID   Latitude  Longitude  \\\n",
       "0   3  42.340115 -71.100619   \n",
       "1   4  42.345392 -71.069616   \n",
       "2   5  42.341814 -71.090179   \n",
       "\n",
       "                                             Station         0         1  \\\n",
       "0  Colleges of the Fenway - Fenway at Avenue Loui...  0.800000  0.733333   \n",
       "1                        Tremont St at E Berkeley St  1.000000  0.705882   \n",
       "2        Northeastern University - North Parking Lot  0.083333  0.083333   \n",
       "\n",
       "          2         3         4         5  ...        16        17        18  \\\n",
       "0  0.733333  0.733333  0.733333  0.733333  ...  0.133333  0.200000  0.000000   \n",
       "1  0.705882  0.764706  0.764706  0.764706  ...  0.470588  0.941176  0.823529   \n",
       "2  0.083333  0.083333  0.083333  0.916667  ...  0.000000  0.066667  0.200000   \n",
       "\n",
       "         19        20        21        22        23      mean    median  \n",
       "0  0.200000  0.200000  0.266667  0.666667  0.600000  0.550000  0.666667  \n",
       "1  0.764706  0.705882  0.823529  0.823529  0.882353  0.764706  0.764706  \n",
       "2  0.266667  0.133333  0.083333  0.083333  0.083333  0.197917  0.083333  \n",
       "\n",
       "[3 rows x 30 columns]"
      ]
     },
     "execution_count": 165,
     "metadata": {},
     "output_type": "execute_result"
    }
   ],
   "source": [
    "hourly_empty_station.head(3)"
   ]
  },
  {
   "cell_type": "code",
   "execution_count": 167,
   "metadata": {},
   "outputs": [],
   "source": [
    "hourly_empty_station.to_csv(\"../Data_processed/station_hours.csv\")"
   ]
  }
 ],
 "metadata": {
  "kernelspec": {
   "display_name": "Python 3",
   "language": "python",
   "name": "python3"
  },
  "language_info": {
   "codemirror_mode": {
    "name": "ipython",
    "version": 3
   },
   "file_extension": ".py",
   "mimetype": "text/x-python",
   "name": "python",
   "nbconvert_exporter": "python",
   "pygments_lexer": "ipython3",
   "version": "3.6.8"
  }
 },
 "nbformat": 4,
 "nbformat_minor": 2
}
