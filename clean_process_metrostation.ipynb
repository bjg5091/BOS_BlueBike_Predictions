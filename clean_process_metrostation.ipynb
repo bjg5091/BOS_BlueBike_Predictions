{
 "cells": [
  {
   "cell_type": "code",
   "execution_count": 1,
   "metadata": {},
   "outputs": [],
   "source": [
    "#import necessary libraries\n",
    "import pandas as pd\n",
    "import matplotlib.pyplot as plt\n",
    "import numpy as np\n",
    "import seaborn as sns\n",
    "import datetime as dt\n",
    "import requests\n",
    "import collections\n",
    "import re\n",
    "import json\n",
    "import glob\n",
    "import math\n",
    "import descartes\n",
    "import geopandas as gpd\n",
    "from shapely.geometry import Point, Polygon\n",
    "from pandas.io.json import json_normalize\n",
    "from scipy.spatial.distance import cdist, pdist, squareform\n",
    "import pandas.tseries.holiday as hol\n",
    "from sklearn.linear_model import LinearRegression\n",
    "from pygam import LinearGAM, LogisticGAM, s, f\n",
    "from sklearn.cluster import KMeans\n",
    "from sklearn.decomposition import PCA\n",
    "from sklearn.cluster import DBSCAN\n",
    "from sklearn.ensemble import RandomForestRegressor\n",
    "from sklearn.model_selection import train_test_split\n",
    "from sklearn.model_selection import cross_validate, cross_val_score, GridSearchCV\n",
    "from sklearn.preprocessing import MinMaxScaler\n",
    "from sklearn.metrics import accuracy_score\n",
    "\n",
    "%matplotlib inline"
   ]
  },
  {
   "cell_type": "code",
   "execution_count": 2,
   "metadata": {},
   "outputs": [],
   "source": [
    "MBTAstops=pd.read_csv(\"../Data_raw/MBTA_GTFS/stops.txt\", sep=\",\")\n",
    "MBTA_subway=MBTAstops[MBTAstops.location_type==1]\n",
    "MBTA_subway=MBTA_subway[~MBTA_subway.stop_name.isin([\"Eastern Avenue\", \"Box District\", \"Bellingham Square\", \"Chelsea\", \"World Trade Center\", \"Courthouse\", \"Silver Line Way\", 'Butler','Capen Street','Cedar Grove','Central Avenue','Mattapan','Milton','Valley Road','Wollaston'])]\n",
    "MBTA_subway=MBTA_subway[[\"stop_name\", \"stop_lat\", \"stop_lon\"]]"
   ]
  },
  {
   "cell_type": "code",
   "execution_count": 3,
   "metadata": {},
   "outputs": [],
   "source": [
    "MBTA_subway.columns=[\"Metro_station\", \"Latitude\", \"Longitude\"]"
   ]
  },
  {
   "cell_type": "code",
   "execution_count": 4,
   "metadata": {},
   "outputs": [
    {
     "data": {
      "text/html": [
       "<div>\n",
       "<style scoped>\n",
       "    .dataframe tbody tr th:only-of-type {\n",
       "        vertical-align: middle;\n",
       "    }\n",
       "\n",
       "    .dataframe tbody tr th {\n",
       "        vertical-align: top;\n",
       "    }\n",
       "\n",
       "    .dataframe thead th {\n",
       "        text-align: right;\n",
       "    }\n",
       "</style>\n",
       "<table border=\"1\" class=\"dataframe\">\n",
       "  <thead>\n",
       "    <tr style=\"text-align: right;\">\n",
       "      <th></th>\n",
       "      <th>Metro_station</th>\n",
       "      <th>Latitude</th>\n",
       "      <th>Longitude</th>\n",
       "    </tr>\n",
       "  </thead>\n",
       "  <tbody>\n",
       "    <tr>\n",
       "      <th>0</th>\n",
       "      <td>Alewife</td>\n",
       "      <td>42.395428</td>\n",
       "      <td>-71.142483</td>\n",
       "    </tr>\n",
       "    <tr>\n",
       "      <th>1</th>\n",
       "      <td>Allston Street</td>\n",
       "      <td>42.348701</td>\n",
       "      <td>-71.137955</td>\n",
       "    </tr>\n",
       "    <tr>\n",
       "      <th>2</th>\n",
       "      <td>Andrew</td>\n",
       "      <td>42.330154</td>\n",
       "      <td>-71.057655</td>\n",
       "    </tr>\n",
       "    <tr>\n",
       "      <th>3</th>\n",
       "      <td>Airport</td>\n",
       "      <td>42.374262</td>\n",
       "      <td>-71.030395</td>\n",
       "    </tr>\n",
       "    <tr>\n",
       "      <th>4</th>\n",
       "      <td>Aquarium</td>\n",
       "      <td>42.359784</td>\n",
       "      <td>-71.051652</td>\n",
       "    </tr>\n",
       "  </tbody>\n",
       "</table>\n",
       "</div>"
      ],
      "text/plain": [
       "    Metro_station   Latitude  Longitude\n",
       "0         Alewife  42.395428 -71.142483\n",
       "1  Allston Street  42.348701 -71.137955\n",
       "2          Andrew  42.330154 -71.057655\n",
       "3         Airport  42.374262 -71.030395\n",
       "4        Aquarium  42.359784 -71.051652"
      ]
     },
     "execution_count": 4,
     "metadata": {},
     "output_type": "execute_result"
    }
   ],
   "source": [
    "MBTA_subway=MBTA_subway.reset_index().drop(\"index\", axis=1)\n",
    "MBTA_subway.head()"
   ]
  },
  {
   "cell_type": "code",
   "execution_count": 5,
   "metadata": {},
   "outputs": [],
   "source": [
    "redline= set([\"Alewife\", \"Davis\", \"Porter\", \"Harvard\", \"Central\", \"Kendall/MIT\", \"Charles/MGH\", \"Park Street\", \"Downtown Crossing\", \"South Station\", \"Broadway\", \"Andrew\", \"JFK/UMass\", \"North Quincy\", \"Quincy Center\", \"Quincy Adams\", \"Braintree\", \"Savin Hill\", \"Fields Corner\", \"Shawmut\",\"Ashmont\"])\n",
    "orangeline= set([\"Oak Grove\", \"Malden Center\", \"Wellington\", \"Assembly\", \"Sullivan Square\", \"Community College\", \"North Station\", \"Haymarket\", \"State\", \"Downtown Crossing\", \"Chinatown\", \"Tufts Medical Center\", \"Back Bay\", \"Massachusetts Avenue\", \"Ruggles\", \"Roxbury Crossing\", \"Jackson Square\", \"Stony Brook\", \"Green Street\", \"Forest Hills\"])\n",
    "blueline=set([\"Wonderland\", \"Revere Beach\", \"Beachmont\", \"Suffolk Downs\", \"Orient Heights\", \"Wood Island\", \"Airport\", \"Maverick\", \"Aquarium\", \"State\", \"Government Center\", \"Bowdoin\"])\n",
    "greenE=set([\"Lechmere\", \"Science Park\", \"North Station\", \"Haymarket\", \"Government Center\", \"Park Street\", \"Boylston\", \"Arlington\", \"Copley\", \"Prudential\", \"Symphony\", \"Northeastern University\", \"Museum of Fine Arts\", \"Longwood Medical Area\", \"Brigham Circle\", \"Fenwood Road\", \"Mission Park\", \"Riverway\", \"Back of the Hill\", \"Heath Street\"])\n",
    "greenD=set([\"Government Center\", \"Park Street\", \"Boylston\", \"Arlington\", \"Copley\", \"Hynes Convention Center\", \"Kenmore\", \"Fenway\", \"Longwood\", \"Brookline Village\", \"Brookline Hills\", \"Beaconsfield\", \"Reservoir\", \"Chestnut Hill\", \"Newton Centre\", \"Newton Highlands\", \"Eliot\", \"Waban\", \"Woodland\", \"Riverside\"])\n",
    "greenC=set([\"North Station\", \"Haymarket\", \"Government Center\", \"Park Street\", \"Boylston\", \"Arlington\", \"Copley\", \"Hynes Convention Center\", \"Kenmore\", \"Saint Marys Street\", \"Hawes Street\", \"Kent Street\", \"Saint Paul Street\", \"Coolidge Corner\", \"Summit Avenue\", \"Brandon Hall\", \"Fairbanks Street\", \"Washington Square\", \"Tappan Street\", \"Dean Road\", \"Englewood Avenue\", \"Cleveland Circle\"])\n",
    "greenB=set([\"Park Street\", \"Boylston\", \"Arlington\", \"Copley\", \"Hynes Convention Center\", \"Kenmore\", \"Blandford Street\", \"Boston University East\", \"Boston University West\", \"Boston University Central\", \"Saint Paul Street\", \"Pleasant Street\", \"Babcock Street\", \"Packards Corner\", \"Harvard Avenue\", \"Griggs Street\", \"Allston Street\", \"Warren Street\", \"Washington Street\", \"Sutherland Road\", \"Chiswick Road\", \"Chestnut Hill Avenue\", \"South Street\", \"Boston College\"])"
   ]
  },
  {
   "cell_type": "code",
   "execution_count": 7,
   "metadata": {},
   "outputs": [],
   "source": [
    "MBTA_subway[\"Red\"]=MBTA_subway.Metro_station.isin(redline)\n",
    "MBTA_subway[\"Orange\"]=MBTA_subway.Metro_station.isin(orangeline)\n",
    "MBTA_subway[\"Blue\"]=MBTA_subway.Metro_station.isin(blueline)\n",
    "MBTA_subway[\"GreenE\"]=MBTA_subway.Metro_station.isin(greenE)\n",
    "MBTA_subway[\"GreenD\"]=MBTA_subway.Metro_station.isin(greenD)\n",
    "MBTA_subway[\"GreenC\"]=MBTA_subway.Metro_station.isin(greenC)\n",
    "MBTA_subway[\"GreenB\"]=MBTA_subway.Metro_station.isin(greenB)"
   ]
  },
  {
   "cell_type": "code",
   "execution_count": 8,
   "metadata": {},
   "outputs": [],
   "source": [
    "MBTA_subway.to_csv(\"../Data_processed/MBTA_subway.csv\")"
   ]
  },
  {
   "cell_type": "code",
   "execution_count": null,
   "metadata": {},
   "outputs": [],
   "source": []
  }
 ],
 "metadata": {
  "kernelspec": {
   "display_name": "Python 3",
   "language": "python",
   "name": "python3"
  },
  "language_info": {
   "codemirror_mode": {
    "name": "ipython",
    "version": 3
   },
   "file_extension": ".py",
   "mimetype": "text/x-python",
   "name": "python",
   "nbconvert_exporter": "python",
   "pygments_lexer": "ipython3",
   "version": "3.6.8"
  }
 },
 "nbformat": 4,
 "nbformat_minor": 2
}
